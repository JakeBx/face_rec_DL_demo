{
 "cells": [
  {
   "cell_type": "markdown",
   "metadata": {
    "deletable": true,
    "editable": true
   },
   "source": [
    "# Implementation of face recognition using neural net "
   ]
  },
  {
   "cell_type": "code",
   "execution_count": 1,
   "metadata": {
    "collapsed": true,
    "deletable": true,
    "editable": true
   },
   "outputs": [],
   "source": [
    "%matplotlib inline"
   ]
  },
  {
   "cell_type": "code",
   "execution_count": 2,
   "metadata": {
    "collapsed": false,
    "deletable": true,
    "editable": true
   },
   "outputs": [
    {
     "name": "stderr",
     "output_type": "stream",
     "text": [
      "/Library/Frameworks/Python.framework/Versions/3.6/lib/python3.6/site-packages/sklearn/cross_validation.py:44: DeprecationWarning: This module was deprecated in version 0.18 in favor of the model_selection module into which all the refactored classes and functions are moved. Also note that the interface of the new CV iterators are different from that of this module. This module will be removed in 0.20.\n",
      "  \"This module will be removed in 0.20.\", DeprecationWarning)\n"
     ]
    }
   ],
   "source": [
    "import cv2\n",
    "import numpy as np\n",
    "import os\n",
    "import dlib\n",
    "from skimage import io\n",
    "from sklearn.cross_validation import train_test_split\n",
    "import matplotlib.pyplot as plt"
   ]
  },
  {
   "cell_type": "code",
   "execution_count": 3,
   "metadata": {
    "collapsed": false,
    "deletable": true,
    "editable": true
   },
   "outputs": [
    {
     "name": "stderr",
     "output_type": "stream",
     "text": [
      "Using TensorFlow backend.\n"
     ]
    }
   ],
   "source": [
    "from keras.utils import np_utils\n",
    "from keras.models import Sequential\n",
    "from keras.layers import Dense, Dropout, Activation"
   ]
  },
  {
   "cell_type": "markdown",
   "metadata": {
    "deletable": true,
    "editable": true
   },
   "source": [
    "#### Listing the path of all the images"
   ]
  },
  {
   "cell_type": "code",
   "execution_count": 4,
   "metadata": {
    "collapsed": true,
    "deletable": true,
    "editable": true
   },
   "outputs": [],
   "source": [
    "DatasetPath = []\n",
    "for i in os.listdir(\"Feret\"):\n",
    "    DatasetPath.append(os.path.join(\"Feret\", i))"
   ]
  },
  {
   "cell_type": "markdown",
   "metadata": {
    "deletable": true,
    "editable": true
   },
   "source": [
    "#### Reading each image and assigning respective labels"
   ]
  },
  {
   "cell_type": "code",
   "execution_count": 5,
   "metadata": {
    "collapsed": true,
    "deletable": true,
    "editable": true,
    "scrolled": true
   },
   "outputs": [],
   "source": [
    "imageData = []\n",
    "imageLabels = []"
   ]
  },
  {
   "cell_type": "code",
   "execution_count": 6,
   "metadata": {
    "collapsed": false,
    "deletable": true,
    "editable": true
   },
   "outputs": [],
   "source": [
    "for i in DatasetPath:\n",
    "#     imgRead = cv2.imread(i)\n",
    "#     imageData.append(imgRead)\n",
    "    \n",
    "    labelRead = int(os.path.split(i)[1].split(\"_\")[0]) - 1\n",
    "    imageLabels.append(labelRead)"
   ]
  },
  {
   "cell_type": "markdown",
   "metadata": {
    "deletable": true,
    "editable": true
   },
   "source": [
    "#### Preprocessing: Face Detection using OpenCV and cropping the image to a size of 150 * 150"
   ]
  },
  {
   "cell_type": "code",
   "execution_count": 7,
   "metadata": {
    "collapsed": true,
    "deletable": true,
    "editable": true
   },
   "outputs": [],
   "source": [
    "faceDetectClassifier = cv2.CascadeClassifier(\"haarcascade_frontalface_default.xml\")"
   ]
  },
  {
   "cell_type": "code",
   "execution_count": 8,
   "metadata": {
    "collapsed": false,
    "deletable": true,
    "editable": true
   },
   "outputs": [],
   "source": [
    "imageDataFin = []\n",
    "for file_name in DatasetPath:\n",
    "    gray = cv2.imread(file_name,0)\n",
    "\n",
    "    faces = faceDetectClassifier.detectMultiScale(\n",
    "        gray,\n",
    "        scaleFactor=1.1,\n",
    "        minNeighbors=5,\n",
    "        minSize=(30, 30)\n",
    "    )\n",
    "    faces = faceDetectClassifier.detectMultiScale(gray, 1.2, 5)\n",
    "\n",
    "#     print(\"Found {0} faces!\".format(len(faces)))\n",
    "\n",
    "    # Draw a rectangle around the faces\n",
    "    for (x, y, w, h) in faces:\n",
    "        cv2.rectangle(gray, (x, y), (x+w, y+h), (0, 255, 0), 2)\n",
    "        thing = gray[y: y + w, x: x + h]\n",
    "\n",
    "    thing = cv2.resize(thing,(150,150))\n",
    "    imageDataFin.append(thing)"
   ]
  },
  {
   "cell_type": "code",
   "execution_count": 9,
   "metadata": {
    "collapsed": true,
    "deletable": true,
    "editable": true
   },
   "outputs": [],
   "source": [
    "c = np.array(imageDataFin)"
   ]
  },
  {
   "cell_type": "code",
   "execution_count": 10,
   "metadata": {
    "collapsed": false,
    "deletable": true,
    "editable": true
   },
   "outputs": [
    {
     "data": {
      "text/plain": [
       "(48, 150, 150)"
      ]
     },
     "execution_count": 10,
     "metadata": {},
     "output_type": "execute_result"
    }
   ],
   "source": [
    "c.shape"
   ]
  },
  {
   "cell_type": "code",
   "execution_count": 11,
   "metadata": {
    "collapsed": false,
    "deletable": true,
    "editable": true
   },
   "outputs": [
    {
     "data": {
      "text/plain": [
       "48"
      ]
     },
     "execution_count": 11,
     "metadata": {},
     "output_type": "execute_result"
    }
   ],
   "source": [
    "len(imageLabels)"
   ]
  },
  {
   "cell_type": "markdown",
   "metadata": {
    "deletable": true,
    "editable": true
   },
   "source": [
    "#### Splitting Dataset into train and test"
   ]
  },
  {
   "cell_type": "code",
   "execution_count": 12,
   "metadata": {
    "collapsed": false,
    "deletable": true,
    "editable": true
   },
   "outputs": [],
   "source": [
    "X_train, X_test, y_train, y_test = train_test_split(np.array(imageDataFin),np.array(imageLabels), train_size=0.9, random_state = 20)"
   ]
  },
  {
   "cell_type": "code",
   "execution_count": 13,
   "metadata": {
    "collapsed": true,
    "deletable": true,
    "editable": true
   },
   "outputs": [],
   "source": [
    "X_train = np.array(X_train)\n",
    "X_test = np.array(X_test)"
   ]
  },
  {
   "cell_type": "code",
   "execution_count": 14,
   "metadata": {
    "collapsed": false,
    "deletable": true,
    "editable": true
   },
   "outputs": [
    {
     "data": {
      "text/plain": [
       "(43, 150, 150)"
      ]
     },
     "execution_count": 14,
     "metadata": {},
     "output_type": "execute_result"
    }
   ],
   "source": [
    "X_train.shape"
   ]
  },
  {
   "cell_type": "code",
   "execution_count": 15,
   "metadata": {
    "collapsed": false,
    "deletable": true,
    "editable": true
   },
   "outputs": [
    {
     "data": {
      "text/plain": [
       "(5, 150, 150)"
      ]
     },
     "execution_count": 15,
     "metadata": {},
     "output_type": "execute_result"
    }
   ],
   "source": [
    "X_test.shape"
   ]
  },
  {
   "cell_type": "code",
   "execution_count": 16,
   "metadata": {
    "collapsed": true,
    "deletable": true,
    "editable": true
   },
   "outputs": [],
   "source": [
    "nb_classes = 15\n",
    "y_train = np.array(y_train) \n",
    "y_test = np.array(y_test) "
   ]
  },
  {
   "cell_type": "code",
   "execution_count": 17,
   "metadata": {
    "collapsed": true,
    "deletable": true,
    "editable": true
   },
   "outputs": [],
   "source": [
    "Y_train = np_utils.to_categorical(y_train, nb_classes)\n",
    "Y_test = np_utils.to_categorical(y_test, nb_classes)"
   ]
  },
  {
   "cell_type": "markdown",
   "metadata": {
    "deletable": true,
    "editable": true
   },
   "source": [
    "#### Converting each 2d image into 1D vector"
   ]
  },
  {
   "cell_type": "code",
   "execution_count": 18,
   "metadata": {
    "collapsed": false,
    "deletable": true,
    "editable": true
   },
   "outputs": [],
   "source": [
    "X_train = X_train.reshape(43, 150*150)\n",
    "X_test = X_test.reshape(5, 150*150)"
   ]
  },
  {
   "cell_type": "code",
   "execution_count": 19,
   "metadata": {
    "collapsed": true,
    "deletable": true,
    "editable": true
   },
   "outputs": [],
   "source": [
    "X_train = X_train.astype('float32')\n",
    "X_test = X_test.astype('float32')\n",
    "\n",
    "X_train /= 255\n",
    "X_test /= 255"
   ]
  },
  {
   "cell_type": "code",
   "execution_count": 20,
   "metadata": {
    "collapsed": false,
    "deletable": true,
    "editable": true
   },
   "outputs": [
    {
     "name": "stdout",
     "output_type": "stream",
     "text": [
      "Training matrix shape (43, 22500)\n",
      "Testing matrix shape (5, 22500)\n"
     ]
    }
   ],
   "source": [
    "print(\"Training matrix shape\", X_train.shape)\n",
    "print(\"Testing matrix shape\", X_test.shape)"
   ]
  },
  {
   "cell_type": "markdown",
   "metadata": {
    "deletable": true,
    "editable": true
   },
   "source": [
    "#### Defining the model"
   ]
  },
  {
   "cell_type": "code",
   "execution_count": 21,
   "metadata": {
    "collapsed": true,
    "deletable": true,
    "editable": true
   },
   "outputs": [],
   "source": [
    "model = Sequential()\n",
    "model.add(Dense(512,input_shape=(X_train.shape[1],)))\n",
    "model.add(Activation('relu'))\n",
    "model.add(Dropout(0.2))\n",
    "model.add(Dense(512))\n",
    "model.add(Activation('relu'))\n",
    "model.add(Dropout(0.2))\n",
    "model.add(Dense(nb_classes))\n",
    "model.add(Activation('softmax'))"
   ]
  },
  {
   "cell_type": "code",
   "execution_count": 22,
   "metadata": {
    "collapsed": false,
    "deletable": true,
    "editable": true
   },
   "outputs": [
    {
     "name": "stdout",
     "output_type": "stream",
     "text": [
      "_________________________________________________________________\n",
      "Layer (type)                 Output Shape              Param #   \n",
      "=================================================================\n",
      "dense_1 (Dense)              (None, 512)               11520512  \n",
      "_________________________________________________________________\n",
      "activation_1 (Activation)    (None, 512)               0         \n",
      "_________________________________________________________________\n",
      "dropout_1 (Dropout)          (None, 512)               0         \n",
      "_________________________________________________________________\n",
      "dense_2 (Dense)              (None, 512)               262656    \n",
      "_________________________________________________________________\n",
      "activation_2 (Activation)    (None, 512)               0         \n",
      "_________________________________________________________________\n",
      "dropout_2 (Dropout)          (None, 512)               0         \n",
      "_________________________________________________________________\n",
      "dense_3 (Dense)              (None, 15)                7695      \n",
      "_________________________________________________________________\n",
      "activation_3 (Activation)    (None, 15)                0         \n",
      "=================================================================\n",
      "Total params: 11,790,863\n",
      "Trainable params: 11,790,863\n",
      "Non-trainable params: 0\n",
      "_________________________________________________________________\n"
     ]
    }
   ],
   "source": [
    "model.summary()"
   ]
  },
  {
   "cell_type": "code",
   "execution_count": 23,
   "metadata": {
    "collapsed": true,
    "deletable": true,
    "editable": true
   },
   "outputs": [],
   "source": [
    "model.compile(loss='categorical_crossentropy', optimizer=\"adam\", metrics=['accuracy'])"
   ]
  },
  {
   "cell_type": "markdown",
   "metadata": {
    "deletable": true,
    "editable": true
   },
   "source": [
    "#### Training"
   ]
  },
  {
   "cell_type": "code",
   "execution_count": 24,
   "metadata": {
    "collapsed": false,
    "deletable": true,
    "editable": true
   },
   "outputs": [
    {
     "name": "stderr",
     "output_type": "stream",
     "text": [
      "/Library/Frameworks/Python.framework/Versions/3.6/lib/python3.6/site-packages/keras/models.py:837: UserWarning: The `nb_epoch` argument in `fit` has been renamed `epochs`.\n",
      "  warnings.warn('The `nb_epoch` argument in `fit` '\n"
     ]
    },
    {
     "name": "stdout",
     "output_type": "stream",
     "text": [
      "Train on 43 samples, validate on 5 samples\n",
      "Epoch 1/50\n",
      "43/43 [==============================] - 0s - loss: 2.6918 - acc: 0.0930 - val_loss: 11.5178 - val_acc: 0.0000e+00\n",
      "Epoch 2/50\n",
      "43/43 [==============================] - 0s - loss: 10.8685 - acc: 0.1860 - val_loss: 9.6709 - val_acc: 0.4000\n",
      "Epoch 3/50\n",
      "43/43 [==============================] - 0s - loss: 12.9024 - acc: 0.1860 - val_loss: 9.6723 - val_acc: 0.4000\n",
      "Epoch 4/50\n",
      "43/43 [==============================] - 0s - loss: 12.1411 - acc: 0.1860 - val_loss: 9.6734 - val_acc: 0.4000\n",
      "Epoch 5/50\n",
      "43/43 [==============================] - 0s - loss: 12.2762 - acc: 0.1163 - val_loss: 9.6709 - val_acc: 0.4000\n",
      "Epoch 6/50\n",
      "43/43 [==============================] - 0s - loss: 12.3801 - acc: 0.2093 - val_loss: 9.6709 - val_acc: 0.4000\n",
      "Epoch 7/50\n",
      "43/43 [==============================] - 0s - loss: 12.8937 - acc: 0.1395 - val_loss: 9.6709 - val_acc: 0.4000\n",
      "Epoch 8/50\n",
      "43/43 [==============================] - 0s - loss: 12.8233 - acc: 0.1628 - val_loss: 9.6709 - val_acc: 0.4000\n",
      "Epoch 9/50\n",
      "43/43 [==============================] - 0s - loss: 11.3081 - acc: 0.2791 - val_loss: 9.6709 - val_acc: 0.4000\n",
      "Epoch 10/50\n",
      "43/43 [==============================] - 0s - loss: 12.0665 - acc: 0.2326 - val_loss: 9.6751 - val_acc: 0.4000\n",
      "Epoch 11/50\n",
      "43/43 [==============================] - 0s - loss: 13.3016 - acc: 0.0930 - val_loss: 10.6709 - val_acc: 0.0000e+00\n",
      "Epoch 12/50\n",
      "43/43 [==============================] - 0s - loss: 12.4191 - acc: 0.1860 - val_loss: 9.8776 - val_acc: 0.4000\n",
      "Epoch 13/50\n",
      "43/43 [==============================] - 0s - loss: 11.9936 - acc: 0.2326 - val_loss: 9.6709 - val_acc: 0.4000\n",
      "Epoch 14/50\n",
      "43/43 [==============================] - 0s - loss: 10.6961 - acc: 0.2791 - val_loss: 9.6709 - val_acc: 0.4000\n",
      "Epoch 15/50\n",
      "43/43 [==============================] - 0s - loss: 11.1213 - acc: 0.2093 - val_loss: 9.6709 - val_acc: 0.4000\n",
      "Epoch 16/50\n",
      "43/43 [==============================] - 0s - loss: 11.2156 - acc: 0.2558 - val_loss: 9.6709 - val_acc: 0.4000\n",
      "Epoch 17/50\n",
      "43/43 [==============================] - 0s - loss: 12.9201 - acc: 0.1163 - val_loss: 9.6709 - val_acc: 0.4000\n",
      "Epoch 18/50\n",
      "43/43 [==============================] - 0s - loss: 11.9615 - acc: 0.1860 - val_loss: 9.6709 - val_acc: 0.4000\n",
      "Epoch 19/50\n",
      "43/43 [==============================] - 0s - loss: 12.2521 - acc: 0.1628 - val_loss: 9.6709 - val_acc: 0.4000\n",
      "Epoch 20/50\n",
      "43/43 [==============================] - 0s - loss: 12.2058 - acc: 0.2326 - val_loss: 9.6709 - val_acc: 0.4000\n",
      "Epoch 21/50\n",
      "43/43 [==============================] - 0s - loss: 12.2453 - acc: 0.2093 - val_loss: 9.6709 - val_acc: 0.4000\n",
      "Epoch 22/50\n",
      "43/43 [==============================] - 0s - loss: 12.6516 - acc: 0.2093 - val_loss: 9.6709 - val_acc: 0.4000\n",
      "Epoch 23/50\n",
      "43/43 [==============================] - 0s - loss: 12.3486 - acc: 0.2326 - val_loss: 9.6709 - val_acc: 0.4000\n",
      "Epoch 24/50\n",
      "43/43 [==============================] - 0s - loss: 12.3929 - acc: 0.1860 - val_loss: 9.6709 - val_acc: 0.4000\n",
      "Epoch 25/50\n",
      "43/43 [==============================] - 0s - loss: 11.8868 - acc: 0.2558 - val_loss: 9.6709 - val_acc: 0.4000\n",
      "Epoch 26/50\n",
      "43/43 [==============================] - 0s - loss: 11.2453 - acc: 0.3023 - val_loss: 9.6709 - val_acc: 0.4000\n",
      "Epoch 27/50\n",
      "43/43 [==============================] - 0s - loss: 11.4803 - acc: 0.2558 - val_loss: 9.6709 - val_acc: 0.4000\n",
      "Epoch 28/50\n",
      "43/43 [==============================] - 0s - loss: 12.5052 - acc: 0.2093 - val_loss: 9.6709 - val_acc: 0.4000\n",
      "Epoch 29/50\n",
      "43/43 [==============================] - 0s - loss: 11.2452 - acc: 0.3023 - val_loss: 9.6709 - val_acc: 0.4000\n",
      "Epoch 30/50\n",
      "43/43 [==============================] - 0s - loss: 12.1526 - acc: 0.2326 - val_loss: 9.6709 - val_acc: 0.4000\n",
      "Epoch 31/50\n",
      "43/43 [==============================] - 0s - loss: 11.6213 - acc: 0.2326 - val_loss: 9.6709 - val_acc: 0.4000\n",
      "Epoch 32/50\n",
      "43/43 [==============================] - 0s - loss: 11.6797 - acc: 0.2093 - val_loss: 9.6709 - val_acc: 0.4000\n",
      "Epoch 33/50\n",
      "43/43 [==============================] - 0s - loss: 12.3170 - acc: 0.2326 - val_loss: 9.6709 - val_acc: 0.4000\n",
      "Epoch 34/50\n",
      "43/43 [==============================] - 0s - loss: 12.1866 - acc: 0.2093 - val_loss: 9.6709 - val_acc: 0.4000\n",
      "Epoch 35/50\n",
      "43/43 [==============================] - 0s - loss: 12.0081 - acc: 0.2326 - val_loss: 9.6709 - val_acc: 0.4000\n",
      "Epoch 36/50\n",
      "43/43 [==============================] - 0s - loss: 11.7531 - acc: 0.2558 - val_loss: 9.6709 - val_acc: 0.4000\n",
      "Epoch 37/50\n",
      "43/43 [==============================] - 0s - loss: 11.6988 - acc: 0.2326 - val_loss: 9.6709 - val_acc: 0.4000\n",
      "Epoch 38/50\n",
      "43/43 [==============================] - 0s - loss: 12.1196 - acc: 0.2093 - val_loss: 9.6709 - val_acc: 0.4000\n",
      "Epoch 39/50\n",
      "43/43 [==============================] - 0s - loss: 12.2064 - acc: 0.1628 - val_loss: 9.6709 - val_acc: 0.4000\n",
      "Epoch 40/50\n",
      "43/43 [==============================] - 0s - loss: 10.9310 - acc: 0.2558 - val_loss: 9.6709 - val_acc: 0.4000\n",
      "Epoch 41/50\n",
      "43/43 [==============================] - 0s - loss: 11.1859 - acc: 0.2558 - val_loss: 9.6709 - val_acc: 0.4000\n",
      "Epoch 42/50\n",
      "43/43 [==============================] - 0s - loss: 12.2460 - acc: 0.2326 - val_loss: 9.6709 - val_acc: 0.4000\n",
      "Epoch 43/50\n",
      "43/43 [==============================] - 0s - loss: 12.4285 - acc: 0.1860 - val_loss: 9.6709 - val_acc: 0.4000\n",
      "Epoch 44/50\n",
      "43/43 [==============================] - 0s - loss: 11.6412 - acc: 0.2558 - val_loss: 9.6709 - val_acc: 0.4000\n",
      "Epoch 45/50\n",
      "43/43 [==============================] - 0s - loss: 10.9725 - acc: 0.3023 - val_loss: 9.6709 - val_acc: 0.4000\n",
      "Epoch 46/50\n",
      "43/43 [==============================] - 0s - loss: 11.5682 - acc: 0.2558 - val_loss: 9.6709 - val_acc: 0.4000\n",
      "Epoch 47/50\n",
      "43/43 [==============================] - 0s - loss: 10.8300 - acc: 0.2791 - val_loss: 9.6709 - val_acc: 0.4000\n",
      "Epoch 48/50\n",
      "43/43 [==============================] - 0s - loss: 10.7437 - acc: 0.3023 - val_loss: 9.6709 - val_acc: 0.4000\n",
      "Epoch 49/50\n",
      "43/43 [==============================] - 0s - loss: 11.0395 - acc: 0.2791 - val_loss: 9.6709 - val_acc: 0.4000\n",
      "Epoch 50/50\n",
      "43/43 [==============================] - 0s - loss: 10.8437 - acc: 0.3023 - val_loss: 9.6709 - val_acc: 0.4000\n"
     ]
    },
    {
     "data": {
      "text/plain": [
       "<keras.callbacks.History at 0x11e614b70>"
      ]
     },
     "execution_count": 24,
     "metadata": {},
     "output_type": "execute_result"
    }
   ],
   "source": [
    "model.fit(X_train, Y_train, batch_size=64, nb_epoch=50, verbose=1, validation_data=(X_test, Y_test))"
   ]
  },
  {
   "cell_type": "markdown",
   "metadata": {
    "deletable": true,
    "editable": true
   },
   "source": [
    "#### Evaluating the performance"
   ]
  },
  {
   "cell_type": "code",
   "execution_count": 25,
   "metadata": {
    "collapsed": true,
    "deletable": true,
    "editable": true
   },
   "outputs": [],
   "source": [
    "loss, accuracy = model.evaluate(X_test,Y_test, verbose=0)"
   ]
  },
  {
   "cell_type": "code",
   "execution_count": 26,
   "metadata": {
    "collapsed": false,
    "deletable": true,
    "editable": true
   },
   "outputs": [
    {
     "data": {
      "text/plain": [
       "9.6708574295043945"
      ]
     },
     "execution_count": 26,
     "metadata": {},
     "output_type": "execute_result"
    }
   ],
   "source": [
    "loss"
   ]
  },
  {
   "cell_type": "code",
   "execution_count": 27,
   "metadata": {
    "collapsed": false,
    "deletable": true,
    "editable": true
   },
   "outputs": [
    {
     "data": {
      "text/plain": [
       "0.40000000596046448"
      ]
     },
     "execution_count": 27,
     "metadata": {},
     "output_type": "execute_result"
    }
   ],
   "source": [
    "accuracy"
   ]
  },
  {
   "cell_type": "code",
   "execution_count": 28,
   "metadata": {
    "collapsed": false,
    "deletable": true,
    "editable": true
   },
   "outputs": [
    {
     "name": "stdout",
     "output_type": "stream",
     "text": [
      "5/5 [==============================] - 0s\n"
     ]
    }
   ],
   "source": [
    "predicted_classes = model.predict_classes(X_test)"
   ]
  },
  {
   "cell_type": "code",
   "execution_count": 29,
   "metadata": {
    "collapsed": true,
    "deletable": true,
    "editable": true
   },
   "outputs": [],
   "source": [
    "correct_classified_indices = np.nonzero(predicted_classes == y_test)[0]\n",
    "incorrect_classified_indices = np.nonzero(predicted_classes != y_test)[0]"
   ]
  },
  {
   "cell_type": "code",
   "execution_count": 30,
   "metadata": {
    "collapsed": false,
    "deletable": true,
    "editable": true
   },
   "outputs": [
    {
     "data": {
      "text/plain": [
       "array([0, 1])"
      ]
     },
     "execution_count": 30,
     "metadata": {},
     "output_type": "execute_result"
    }
   ],
   "source": [
    "correct_classified_indices"
   ]
  },
  {
   "cell_type": "code",
   "execution_count": 31,
   "metadata": {
    "collapsed": false,
    "deletable": true,
    "editable": true
   },
   "outputs": [
    {
     "data": {
      "text/plain": [
       "array([2, 3, 4])"
      ]
     },
     "execution_count": 31,
     "metadata": {},
     "output_type": "execute_result"
    }
   ],
   "source": [
    "incorrect_classified_indices"
   ]
  }
 ],
 "metadata": {
  "kernelspec": {
   "display_name": "Python 3",
   "language": "python",
   "name": "python3"
  },
  "language_info": {
   "codemirror_mode": {
    "name": "ipython",
    "version": 3
   },
   "file_extension": ".py",
   "mimetype": "text/x-python",
   "name": "python",
   "nbconvert_exporter": "python",
   "pygments_lexer": "ipython3",
   "version": "3.6.0"
  }
 },
 "nbformat": 4,
 "nbformat_minor": 1
}
