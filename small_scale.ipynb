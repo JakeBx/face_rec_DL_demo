{
 "cells": [
  {
   "cell_type": "markdown",
   "metadata": {},
   "source": [
    "# Implementation of face recognition using neural net "
   ]
  },
  {
   "cell_type": "code",
   "execution_count": 1,
   "metadata": {
    "collapsed": true
   },
   "outputs": [],
   "source": [
    "%matplotlib inline"
   ]
  },
  {
   "cell_type": "code",
   "execution_count": 2,
   "metadata": {
    "collapsed": false
   },
   "outputs": [],
   "source": [
    "import cv2\n",
    "import numpy as np\n",
    "import os\n",
    "from skimage import io\n",
    "from sklearn.cross_validation import train_test_split\n",
    "import matplotlib.pyplot as plt"
   ]
  },
  {
   "cell_type": "code",
   "execution_count": 3,
   "metadata": {
    "collapsed": false
   },
   "outputs": [
    {
     "name": "stderr",
     "output_type": "stream",
     "text": [
      "Using Theano backend.\n"
     ]
    }
   ],
   "source": [
    "from keras.utils import np_utils\n",
    "from keras.models import Sequential\n",
    "from keras.layers import Dense, Dropout, Activation"
   ]
  },
  {
   "cell_type": "markdown",
   "metadata": {},
   "source": [
    "#### Listing the path of all the images"
   ]
  },
  {
   "cell_type": "code",
   "execution_count": 4,
   "metadata": {
    "collapsed": true
   },
   "outputs": [],
   "source": [
    "DatasetPath = []\n",
    "for i in os.listdir(\"yalefaces\"):\n",
    "    DatasetPath.append(os.path.join(\"yalefaces\", i))"
   ]
  },
  {
   "cell_type": "markdown",
   "metadata": {},
   "source": [
    "#### Reading each image and assigning respective labels"
   ]
  },
  {
   "cell_type": "code",
   "execution_count": 5,
   "metadata": {
    "collapsed": false,
    "scrolled": true
   },
   "outputs": [],
   "source": [
    "imageData = []\n",
    "imageLabels = []"
   ]
  },
  {
   "cell_type": "code",
   "execution_count": 6,
   "metadata": {
    "collapsed": true
   },
   "outputs": [],
   "source": [
    "for i in DatasetPath:\n",
    "    imgRead = io.imread(i,as_grey=True)\n",
    "    imageData.append(imgRead)\n",
    "    \n",
    "    labelRead = int(os.path.split(i)[1].split(\".\")[0].replace(\"subject\", \"\")) - 1\n",
    "    imageLabels.append(labelRead)"
   ]
  },
  {
   "cell_type": "markdown",
   "metadata": {},
   "source": [
    "#### Preprocessing: Face Detection using OpenCV and cropping the image to a size of 150 * 150"
   ]
  },
  {
   "cell_type": "code",
   "execution_count": 7,
   "metadata": {
    "collapsed": false
   },
   "outputs": [],
   "source": [
    "faceDetectClassifier = cv2.CascadeClassifier(\"haarcascade_frontalface_default.xml\")"
   ]
  },
  {
   "cell_type": "code",
   "execution_count": 8,
   "metadata": {
    "collapsed": false
   },
   "outputs": [],
   "source": [
    "imageDataFin = []\n",
    "for i in imageData:\n",
    "    facePoints = faceDetectClassifier.detectMultiScale(i)\n",
    "    x,y = facePoints[0][:2]\n",
    "    cropped = i[y: y + 150, x: x + 150]\n",
    "    imageDataFin.append(cropped)"
   ]
  },
  {
   "cell_type": "code",
   "execution_count": 9,
   "metadata": {
    "collapsed": true
   },
   "outputs": [],
   "source": [
    "c = np.array(imageDataFin)"
   ]
  },
  {
   "cell_type": "code",
   "execution_count": 10,
   "metadata": {
    "collapsed": false
   },
   "outputs": [
    {
     "data": {
      "text/plain": [
       "(165, 150, 150)"
      ]
     },
     "execution_count": 10,
     "metadata": {},
     "output_type": "execute_result"
    }
   ],
   "source": [
    "c.shape"
   ]
  },
  {
   "cell_type": "markdown",
   "metadata": {},
   "source": [
    "#### Splitting Dataset into train and test"
   ]
  },
  {
   "cell_type": "code",
   "execution_count": 11,
   "metadata": {
    "collapsed": true
   },
   "outputs": [],
   "source": [
    "X_train, X_test, y_train, y_test = train_test_split(np.array(imageDataFin),np.array(imageLabels), train_size=0.9, random_state = 20)"
   ]
  },
  {
   "cell_type": "code",
   "execution_count": 12,
   "metadata": {
    "collapsed": false
   },
   "outputs": [],
   "source": [
    "X_train = np.array(X_train)\n",
    "X_test = np.array(X_test)"
   ]
  },
  {
   "cell_type": "code",
   "execution_count": 13,
   "metadata": {
    "collapsed": false
   },
   "outputs": [
    {
     "data": {
      "text/plain": [
       "(148, 150, 150)"
      ]
     },
     "execution_count": 13,
     "metadata": {},
     "output_type": "execute_result"
    }
   ],
   "source": [
    "X_train.shape"
   ]
  },
  {
   "cell_type": "code",
   "execution_count": 14,
   "metadata": {
    "collapsed": false
   },
   "outputs": [
    {
     "data": {
      "text/plain": [
       "(17, 150, 150)"
      ]
     },
     "execution_count": 14,
     "metadata": {},
     "output_type": "execute_result"
    }
   ],
   "source": [
    "X_test.shape"
   ]
  },
  {
   "cell_type": "code",
   "execution_count": 15,
   "metadata": {
    "collapsed": true
   },
   "outputs": [],
   "source": [
    "nb_classes = 15\n",
    "y_train = np.array(y_train) \n",
    "y_test = np.array(y_test) "
   ]
  },
  {
   "cell_type": "code",
   "execution_count": 16,
   "metadata": {
    "collapsed": false
   },
   "outputs": [],
   "source": [
    "Y_train = np_utils.to_categorical(y_train, nb_classes)\n",
    "Y_test = np_utils.to_categorical(y_test, nb_classes)"
   ]
  },
  {
   "cell_type": "markdown",
   "metadata": {},
   "source": [
    "#### Converting each 2d image into 1D vector"
   ]
  },
  {
   "cell_type": "code",
   "execution_count": 17,
   "metadata": {
    "collapsed": false
   },
   "outputs": [],
   "source": [
    "X_train = X_train.reshape(148, 150*150)\n",
    "X_test = X_test.reshape(17, 150*150)"
   ]
  },
  {
   "cell_type": "code",
   "execution_count": 18,
   "metadata": {
    "collapsed": true
   },
   "outputs": [],
   "source": [
    "X_train = X_train.astype('float32')\n",
    "X_test = X_test.astype('float32')\n",
    "\n",
    "X_train /= 255\n",
    "X_test /= 255"
   ]
  },
  {
   "cell_type": "code",
   "execution_count": 19,
   "metadata": {
    "collapsed": false
   },
   "outputs": [
    {
     "name": "stdout",
     "output_type": "stream",
     "text": [
      "Training matrix shape (148, 22500)\n",
      "Testing matrix shape (17, 22500)\n"
     ]
    }
   ],
   "source": [
    "print(\"Training matrix shape\", X_train.shape)\n",
    "print(\"Testing matrix shape\", X_test.shape)"
   ]
  },
  {
   "cell_type": "markdown",
   "metadata": {},
   "source": [
    "#### Defining the model"
   ]
  },
  {
   "cell_type": "code",
   "execution_count": 20,
   "metadata": {
    "collapsed": false
   },
   "outputs": [],
   "source": [
    "model = Sequential()\n",
    "model.add(Dense(512,input_shape=(X_train.shape[1],)))\n",
    "model.add(Activation('relu'))\n",
    "model.add(Dropout(0.2))\n",
    "model.add(Dense(512))\n",
    "model.add(Activation('relu'))\n",
    "model.add(Dropout(0.2))\n",
    "model.add(Dense(nb_classes))\n",
    "model.add(Activation('softmax'))"
   ]
  },
  {
   "cell_type": "code",
   "execution_count": 21,
   "metadata": {
    "collapsed": false
   },
   "outputs": [
    {
     "name": "stdout",
     "output_type": "stream",
     "text": [
      "____________________________________________________________________________________________________\n",
      "Layer (type)                     Output Shape          Param #     Connected to                     \n",
      "====================================================================================================\n",
      "dense_1 (Dense)                  (None, 512)           11520512    dense_input_1[0][0]              \n",
      "____________________________________________________________________________________________________\n",
      "activation_1 (Activation)        (None, 512)           0           dense_1[0][0]                    \n",
      "____________________________________________________________________________________________________\n",
      "dropout_1 (Dropout)              (None, 512)           0           activation_1[0][0]               \n",
      "____________________________________________________________________________________________________\n",
      "dense_2 (Dense)                  (None, 512)           262656      dropout_1[0][0]                  \n",
      "____________________________________________________________________________________________________\n",
      "activation_2 (Activation)        (None, 512)           0           dense_2[0][0]                    \n",
      "____________________________________________________________________________________________________\n",
      "dropout_2 (Dropout)              (None, 512)           0           activation_2[0][0]               \n",
      "____________________________________________________________________________________________________\n",
      "dense_3 (Dense)                  (None, 15)            7695        dropout_2[0][0]                  \n",
      "____________________________________________________________________________________________________\n",
      "activation_3 (Activation)        (None, 15)            0           dense_3[0][0]                    \n",
      "====================================================================================================\n",
      "Total params: 11790863\n",
      "____________________________________________________________________________________________________\n"
     ]
    }
   ],
   "source": [
    "model.summary()"
   ]
  },
  {
   "cell_type": "code",
   "execution_count": 22,
   "metadata": {
    "collapsed": true
   },
   "outputs": [],
   "source": [
    "model.compile(loss='categorical_crossentropy', optimizer=\"adam\", metrics=['accuracy'])"
   ]
  },
  {
   "cell_type": "markdown",
   "metadata": {},
   "source": [
    "#### Training"
   ]
  },
  {
   "cell_type": "code",
   "execution_count": 23,
   "metadata": {
    "collapsed": false
   },
   "outputs": [
    {
     "name": "stdout",
     "output_type": "stream",
     "text": [
      "Train on 148 samples, validate on 17 samples\n",
      "Epoch 1/50\n",
      "148/148 [==============================] - 0s - loss: 7.5383 - acc: 0.0676 - val_loss: 8.6825 - val_acc: 0.1176\n",
      "Epoch 2/50\n",
      "148/148 [==============================] - 0s - loss: 10.7414 - acc: 0.1486 - val_loss: 6.8926 - val_acc: 0.1176\n",
      "Epoch 3/50\n",
      "148/148 [==============================] - 0s - loss: 10.0452 - acc: 0.1959 - val_loss: 8.6226 - val_acc: 0.2941\n",
      "Epoch 4/50\n",
      "148/148 [==============================] - 0s - loss: 9.6777 - acc: 0.2568 - val_loss: 8.7041 - val_acc: 0.4118\n",
      "Epoch 5/50\n",
      "148/148 [==============================] - 0s - loss: 9.2544 - acc: 0.3176 - val_loss: 8.6605 - val_acc: 0.2941\n",
      "Epoch 6/50\n",
      "148/148 [==============================] - 0s - loss: 8.3280 - acc: 0.3716 - val_loss: 8.4451 - val_acc: 0.4118\n",
      "Epoch 7/50\n",
      "148/148 [==============================] - 0s - loss: 8.4121 - acc: 0.3514 - val_loss: 8.4700 - val_acc: 0.3529\n",
      "Epoch 8/50\n",
      "148/148 [==============================] - 0s - loss: 7.7824 - acc: 0.4189 - val_loss: 9.1769 - val_acc: 0.4118\n",
      "Epoch 9/50\n",
      "148/148 [==============================] - 0s - loss: 7.8202 - acc: 0.4257 - val_loss: 8.6847 - val_acc: 0.3529\n",
      "Epoch 10/50\n",
      "148/148 [==============================] - 0s - loss: 7.8032 - acc: 0.4122 - val_loss: 8.3727 - val_acc: 0.3529\n",
      "Epoch 11/50\n",
      "148/148 [==============================] - 0s - loss: 7.5308 - acc: 0.4527 - val_loss: 7.8357 - val_acc: 0.4118\n",
      "Epoch 12/50\n",
      "148/148 [==============================] - 0s - loss: 6.7747 - acc: 0.5203 - val_loss: 7.9722 - val_acc: 0.4118\n",
      "Epoch 13/50\n",
      "148/148 [==============================] - 0s - loss: 6.5475 - acc: 0.5541 - val_loss: 8.2077 - val_acc: 0.4706\n",
      "Epoch 14/50\n",
      "148/148 [==============================] - 0s - loss: 6.7758 - acc: 0.5135 - val_loss: 7.7741 - val_acc: 0.4706\n",
      "Epoch 15/50\n",
      "148/148 [==============================] - 0s - loss: 6.4534 - acc: 0.5405 - val_loss: 7.2245 - val_acc: 0.5294\n",
      "Epoch 16/50\n",
      "148/148 [==============================] - 0s - loss: 6.4479 - acc: 0.5473 - val_loss: 5.4683 - val_acc: 0.5294\n",
      "Epoch 17/50\n",
      "148/148 [==============================] - 0s - loss: 5.9211 - acc: 0.5743 - val_loss: 4.9664 - val_acc: 0.5882\n",
      "Epoch 18/50\n",
      "148/148 [==============================] - 0s - loss: 5.1572 - acc: 0.5743 - val_loss: 2.9679 - val_acc: 0.5882\n",
      "Epoch 19/50\n",
      "148/148 [==============================] - 0s - loss: 4.5730 - acc: 0.5270 - val_loss: 2.2129 - val_acc: 0.6471\n",
      "Epoch 20/50\n",
      "148/148 [==============================] - 0s - loss: 3.5909 - acc: 0.5811 - val_loss: 1.4824 - val_acc: 0.5294\n",
      "Epoch 21/50\n",
      "148/148 [==============================] - 0s - loss: 2.2558 - acc: 0.7027 - val_loss: 0.7295 - val_acc: 0.5882\n",
      "Epoch 22/50\n",
      "148/148 [==============================] - 0s - loss: 0.8974 - acc: 0.7297 - val_loss: 1.1103 - val_acc: 0.6471\n",
      "Epoch 23/50\n",
      "148/148 [==============================] - 0s - loss: 0.8257 - acc: 0.7162 - val_loss: 1.1105 - val_acc: 0.6471\n",
      "Epoch 24/50\n",
      "148/148 [==============================] - 0s - loss: 0.9038 - acc: 0.7297 - val_loss: 0.7662 - val_acc: 0.7059\n",
      "Epoch 25/50\n",
      "148/148 [==============================] - 0s - loss: 0.6488 - acc: 0.7568 - val_loss: 0.7349 - val_acc: 0.7647\n",
      "Epoch 26/50\n",
      "148/148 [==============================] - 0s - loss: 0.5184 - acc: 0.8176 - val_loss: 0.6837 - val_acc: 0.7059\n",
      "Epoch 27/50\n",
      "148/148 [==============================] - 0s - loss: 0.5290 - acc: 0.8311 - val_loss: 0.4177 - val_acc: 0.8235\n",
      "Epoch 28/50\n",
      "148/148 [==============================] - 0s - loss: 0.3477 - acc: 0.8649 - val_loss: 0.5375 - val_acc: 0.8235\n",
      "Epoch 29/50\n",
      "148/148 [==============================] - 0s - loss: 0.3857 - acc: 0.8851 - val_loss: 0.8153 - val_acc: 0.7059\n",
      "Epoch 30/50\n",
      "148/148 [==============================] - 0s - loss: 0.4452 - acc: 0.8378 - val_loss: 0.6375 - val_acc: 0.7059\n",
      "Epoch 31/50\n",
      "148/148 [==============================] - 0s - loss: 0.3091 - acc: 0.8716 - val_loss: 0.4162 - val_acc: 0.8824\n",
      "Epoch 32/50\n",
      "148/148 [==============================] - 0s - loss: 0.2790 - acc: 0.9054 - val_loss: 0.4403 - val_acc: 0.8235\n",
      "Epoch 33/50\n",
      "148/148 [==============================] - 0s - loss: 0.2847 - acc: 0.9054 - val_loss: 0.5339 - val_acc: 0.7647\n",
      "Epoch 34/50\n",
      "148/148 [==============================] - 0s - loss: 0.2396 - acc: 0.9257 - val_loss: 0.6084 - val_acc: 0.7647\n",
      "Epoch 35/50\n",
      "148/148 [==============================] - 0s - loss: 0.2532 - acc: 0.9122 - val_loss: 0.4785 - val_acc: 0.7059\n",
      "Epoch 36/50\n",
      "148/148 [==============================] - 0s - loss: 0.3031 - acc: 0.8851 - val_loss: 0.4401 - val_acc: 0.8235\n",
      "Epoch 37/50\n",
      "148/148 [==============================] - 0s - loss: 0.1215 - acc: 0.9662 - val_loss: 0.4127 - val_acc: 0.8235\n",
      "Epoch 38/50\n",
      "148/148 [==============================] - 0s - loss: 0.1400 - acc: 0.9595 - val_loss: 0.4072 - val_acc: 0.8235\n",
      "Epoch 39/50\n",
      "148/148 [==============================] - 0s - loss: 0.1934 - acc: 0.9392 - val_loss: 0.3748 - val_acc: 0.8235\n",
      "Epoch 40/50\n",
      "148/148 [==============================] - 0s - loss: 0.1559 - acc: 0.9662 - val_loss: 0.3368 - val_acc: 0.8824\n",
      "Epoch 41/50\n",
      "148/148 [==============================] - 0s - loss: 0.1380 - acc: 0.9730 - val_loss: 0.2749 - val_acc: 0.9412\n",
      "Epoch 42/50\n",
      "148/148 [==============================] - 0s - loss: 0.0862 - acc: 0.9662 - val_loss: 0.2573 - val_acc: 0.9412\n",
      "Epoch 43/50\n",
      "148/148 [==============================] - 0s - loss: 0.0957 - acc: 0.9730 - val_loss: 0.2960 - val_acc: 0.8824\n",
      "Epoch 44/50\n",
      "148/148 [==============================] - 0s - loss: 0.0733 - acc: 0.9865 - val_loss: 0.4040 - val_acc: 0.8235\n",
      "Epoch 45/50\n",
      "148/148 [==============================] - 0s - loss: 0.0842 - acc: 0.9730 - val_loss: 0.2774 - val_acc: 0.8824\n",
      "Epoch 46/50\n",
      "148/148 [==============================] - 0s - loss: 0.0439 - acc: 0.9932 - val_loss: 0.2243 - val_acc: 0.9412\n",
      "Epoch 47/50\n",
      "148/148 [==============================] - 0s - loss: 0.1033 - acc: 0.9797 - val_loss: 0.2344 - val_acc: 0.9412\n",
      "Epoch 48/50\n",
      "148/148 [==============================] - 0s - loss: 0.0508 - acc: 0.9797 - val_loss: 0.1975 - val_acc: 0.9412\n",
      "Epoch 49/50\n",
      "148/148 [==============================] - 0s - loss: 0.0233 - acc: 0.9932 - val_loss: 0.2045 - val_acc: 0.9412\n",
      "Epoch 50/50\n",
      "148/148 [==============================] - 0s - loss: 0.0340 - acc: 0.9932 - val_loss: 0.2435 - val_acc: 0.8824\n"
     ]
    },
    {
     "data": {
      "text/plain": [
       "<keras.callbacks.History at 0x129402240>"
      ]
     },
     "execution_count": 23,
     "metadata": {},
     "output_type": "execute_result"
    }
   ],
   "source": [
    "model.fit(X_train, Y_train, batch_size=64, nb_epoch=50, verbose=1, validation_data=(X_test, Y_test))"
   ]
  },
  {
   "cell_type": "markdown",
   "metadata": {},
   "source": [
    "#### Evaluating the performance"
   ]
  },
  {
   "cell_type": "code",
   "execution_count": 24,
   "metadata": {
    "collapsed": true
   },
   "outputs": [],
   "source": [
    "loss, accuracy = model.evaluate(X_test,Y_test, verbose=0)"
   ]
  },
  {
   "cell_type": "code",
   "execution_count": 25,
   "metadata": {
    "collapsed": false
   },
   "outputs": [
    {
     "data": {
      "text/plain": [
       "0.24348054826259613"
      ]
     },
     "execution_count": 25,
     "metadata": {},
     "output_type": "execute_result"
    }
   ],
   "source": [
    "loss"
   ]
  },
  {
   "cell_type": "code",
   "execution_count": 26,
   "metadata": {
    "collapsed": false
   },
   "outputs": [
    {
     "data": {
      "text/plain": [
       "0.88235294818878174"
      ]
     },
     "execution_count": 26,
     "metadata": {},
     "output_type": "execute_result"
    }
   ],
   "source": [
    "accuracy"
   ]
  },
  {
   "cell_type": "code",
   "execution_count": 27,
   "metadata": {
    "collapsed": false
   },
   "outputs": [
    {
     "name": "stdout",
     "output_type": "stream",
     "text": [
      "17/17 [==============================] - 0s\n"
     ]
    }
   ],
   "source": [
    "predicted_classes = model.predict_classes(X_test)"
   ]
  },
  {
   "cell_type": "code",
   "execution_count": 28,
   "metadata": {
    "collapsed": false
   },
   "outputs": [],
   "source": [
    "correct_classified_indices = np.nonzero(predicted_classes == y_test)[0]\n",
    "incorrect_classified_indices = np.nonzero(predicted_classes != y_test)[0]"
   ]
  },
  {
   "cell_type": "code",
   "execution_count": 29,
   "metadata": {
    "collapsed": false
   },
   "outputs": [
    {
     "data": {
      "text/plain": [
       "array([ 1,  2,  3,  4,  5,  6,  7,  8,  9, 10, 11, 12, 14, 15, 16])"
      ]
     },
     "execution_count": 29,
     "metadata": {},
     "output_type": "execute_result"
    }
   ],
   "source": [
    "correct_classified_indices"
   ]
  },
  {
   "cell_type": "code",
   "execution_count": 30,
   "metadata": {
    "collapsed": false
   },
   "outputs": [
    {
     "data": {
      "text/plain": [
       "array([ 0, 13])"
      ]
     },
     "execution_count": 30,
     "metadata": {},
     "output_type": "execute_result"
    }
   ],
   "source": [
    "incorrect_classified_indices"
   ]
  }
 ],
 "metadata": {
  "kernelspec": {
   "display_name": "Python 3",
   "language": "python",
   "name": "python3"
  },
  "language_info": {
   "codemirror_mode": {
    "name": "ipython",
    "version": 3
   },
   "file_extension": ".py",
   "mimetype": "text/x-python",
   "name": "python",
   "nbconvert_exporter": "python",
   "pygments_lexer": "ipython3",
   "version": "3.5.2"
  }
 },
 "nbformat": 4,
 "nbformat_minor": 1
}
